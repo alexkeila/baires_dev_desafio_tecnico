{
 "cells": [
  {
   "cell_type": "markdown",
   "metadata": {},
   "source": [
    "## Importing necessary libraries:"
   ]
  },
  {
   "cell_type": "code",
   "execution_count": 1,
   "metadata": {},
   "outputs": [],
   "source": [
    "import numpy as np\n",
    "import pandas as pd\n",
    "import seaborn as sns"
   ]
  },
  {
   "cell_type": "markdown",
   "metadata": {},
   "source": [
    "## Reading \"people.in\" file (I have renamed it to \"people.csv\" before using in this code):"
   ]
  },
  {
   "cell_type": "code",
   "execution_count": 2,
   "metadata": {},
   "outputs": [],
   "source": [
    "df = pd.read_csv('people.csv', sep=';')"
   ]
  },
  {
   "cell_type": "code",
   "execution_count": 3,
   "metadata": {},
   "outputs": [
    {
     "data": {
      "text/plain": [
       "(2779, 8)"
      ]
     },
     "execution_count": 3,
     "metadata": {},
     "output_type": "execute_result"
    }
   ],
   "source": [
    "df.shape"
   ]
  },
  {
   "cell_type": "code",
   "execution_count": 4,
   "metadata": {},
   "outputs": [
    {
     "data": {
      "text/html": [
       "<div>\n",
       "<style scoped>\n",
       "    .dataframe tbody tr th:only-of-type {\n",
       "        vertical-align: middle;\n",
       "    }\n",
       "\n",
       "    .dataframe tbody tr th {\n",
       "        vertical-align: top;\n",
       "    }\n",
       "\n",
       "    .dataframe thead th {\n",
       "        text-align: right;\n",
       "    }\n",
       "</style>\n",
       "<table border=\"1\" class=\"dataframe\">\n",
       "  <thead>\n",
       "    <tr style=\"text-align: right;\">\n",
       "      <th></th>\n",
       "      <th>PersonId</th>\n",
       "      <th>Name</th>\n",
       "      <th>LastName</th>\n",
       "      <th>CurrentRole</th>\n",
       "      <th>Country</th>\n",
       "      <th>Industry</th>\n",
       "      <th>NumberOfRecommendations</th>\n",
       "      <th>NumberOfConnections</th>\n",
       "    </tr>\n",
       "  </thead>\n",
       "  <tbody>\n",
       "    <tr>\n",
       "      <th>0</th>\n",
       "      <td>573435640</td>\n",
       "      <td>jean</td>\n",
       "      <td>harion</td>\n",
       "      <td>vice president</td>\n",
       "      <td>Dominica</td>\n",
       "      <td>Telecommunications</td>\n",
       "      <td>0</td>\n",
       "      <td>0</td>\n",
       "    </tr>\n",
       "    <tr>\n",
       "      <th>1</th>\n",
       "      <td>337983069</td>\n",
       "      <td>meredith</td>\n",
       "      <td>kopit-levien</td>\n",
       "      <td>chief revenue officer</td>\n",
       "      <td>United States</td>\n",
       "      <td>Publishing</td>\n",
       "      <td>0</td>\n",
       "      <td>0</td>\n",
       "    </tr>\n",
       "    <tr>\n",
       "      <th>2</th>\n",
       "      <td>556570894</td>\n",
       "      <td>daniel</td>\n",
       "      <td>roe</td>\n",
       "      <td>vp, customer operations and support</td>\n",
       "      <td>United States</td>\n",
       "      <td>Computer Software</td>\n",
       "      <td>0</td>\n",
       "      <td>270</td>\n",
       "    </tr>\n",
       "    <tr>\n",
       "      <th>3</th>\n",
       "      <td>646158956</td>\n",
       "      <td>craig</td>\n",
       "      <td>gulliver</td>\n",
       "      <td>vice president, support services</td>\n",
       "      <td>Canada</td>\n",
       "      <td>Computer Software</td>\n",
       "      <td>0</td>\n",
       "      <td>0</td>\n",
       "    </tr>\n",
       "    <tr>\n",
       "      <th>4</th>\n",
       "      <td>345736039</td>\n",
       "      <td>isaac</td>\n",
       "      <td>stringer</td>\n",
       "      <td>vice president</td>\n",
       "      <td>United States</td>\n",
       "      <td>Electronics</td>\n",
       "      <td>0</td>\n",
       "      <td>0</td>\n",
       "    </tr>\n",
       "  </tbody>\n",
       "</table>\n",
       "</div>"
      ],
      "text/plain": [
       "    PersonId      Name      LastName                          CurrentRole  \\\n",
       "0  573435640      jean        harion                       vice president   \n",
       "1  337983069  meredith  kopit-levien                chief revenue officer   \n",
       "2  556570894    daniel           roe  vp, customer operations and support   \n",
       "3  646158956     craig      gulliver     vice president, support services   \n",
       "4  345736039     isaac      stringer                       vice president   \n",
       "\n",
       "         Country            Industry  NumberOfRecommendations  \\\n",
       "0       Dominica  Telecommunications                        0   \n",
       "1  United States          Publishing                        0   \n",
       "2  United States   Computer Software                        0   \n",
       "3         Canada   Computer Software                        0   \n",
       "4  United States         Electronics                        0   \n",
       "\n",
       "   NumberOfConnections  \n",
       "0                    0  \n",
       "1                    0  \n",
       "2                  270  \n",
       "3                    0  \n",
       "4                    0  "
      ]
     },
     "execution_count": 4,
     "metadata": {},
     "output_type": "execute_result"
    }
   ],
   "source": [
    "df.head()"
   ]
  },
  {
   "cell_type": "code",
   "execution_count": 5,
   "metadata": {},
   "outputs": [
    {
     "data": {
      "text/html": [
       "<div>\n",
       "<style scoped>\n",
       "    .dataframe tbody tr th:only-of-type {\n",
       "        vertical-align: middle;\n",
       "    }\n",
       "\n",
       "    .dataframe tbody tr th {\n",
       "        vertical-align: top;\n",
       "    }\n",
       "\n",
       "    .dataframe thead th {\n",
       "        text-align: right;\n",
       "    }\n",
       "</style>\n",
       "<table border=\"1\" class=\"dataframe\">\n",
       "  <thead>\n",
       "    <tr style=\"text-align: right;\">\n",
       "      <th></th>\n",
       "      <th>PersonId</th>\n",
       "      <th>NumberOfRecommendations</th>\n",
       "      <th>NumberOfConnections</th>\n",
       "    </tr>\n",
       "  </thead>\n",
       "  <tbody>\n",
       "    <tr>\n",
       "      <th>count</th>\n",
       "      <td>2.779000e+03</td>\n",
       "      <td>2779.000000</td>\n",
       "      <td>2779.000000</td>\n",
       "    </tr>\n",
       "    <tr>\n",
       "      <th>mean</th>\n",
       "      <td>6.396832e+08</td>\n",
       "      <td>0.045700</td>\n",
       "      <td>16.211947</td>\n",
       "    </tr>\n",
       "    <tr>\n",
       "      <th>std</th>\n",
       "      <td>3.664072e+07</td>\n",
       "      <td>1.194419</td>\n",
       "      <td>69.382461</td>\n",
       "    </tr>\n",
       "    <tr>\n",
       "      <th>min</th>\n",
       "      <td>8.542416e+07</td>\n",
       "      <td>0.000000</td>\n",
       "      <td>0.000000</td>\n",
       "    </tr>\n",
       "    <tr>\n",
       "      <th>25%</th>\n",
       "      <td>6.428408e+08</td>\n",
       "      <td>0.000000</td>\n",
       "      <td>0.000000</td>\n",
       "    </tr>\n",
       "    <tr>\n",
       "      <th>50%</th>\n",
       "      <td>6.440413e+08</td>\n",
       "      <td>0.000000</td>\n",
       "      <td>0.000000</td>\n",
       "    </tr>\n",
       "    <tr>\n",
       "      <th>75%</th>\n",
       "      <td>6.445936e+08</td>\n",
       "      <td>0.000000</td>\n",
       "      <td>0.000000</td>\n",
       "    </tr>\n",
       "    <tr>\n",
       "      <th>max</th>\n",
       "      <td>6.463992e+08</td>\n",
       "      <td>60.000000</td>\n",
       "      <td>500.000000</td>\n",
       "    </tr>\n",
       "  </tbody>\n",
       "</table>\n",
       "</div>"
      ],
      "text/plain": [
       "           PersonId  NumberOfRecommendations  NumberOfConnections\n",
       "count  2.779000e+03              2779.000000          2779.000000\n",
       "mean   6.396832e+08                 0.045700            16.211947\n",
       "std    3.664072e+07                 1.194419            69.382461\n",
       "min    8.542416e+07                 0.000000             0.000000\n",
       "25%    6.428408e+08                 0.000000             0.000000\n",
       "50%    6.440413e+08                 0.000000             0.000000\n",
       "75%    6.445936e+08                 0.000000             0.000000\n",
       "max    6.463992e+08                60.000000           500.000000"
      ]
     },
     "execution_count": 5,
     "metadata": {},
     "output_type": "execute_result"
    }
   ],
   "source": [
    "df.describe()"
   ]
  },
  {
   "cell_type": "markdown",
   "metadata": {},
   "source": [
    "## Some Exploratory Analysis:"
   ]
  },
  {
   "cell_type": "code",
   "execution_count": 6,
   "metadata": {},
   "outputs": [
    {
     "data": {
      "text/plain": [
       "NaN                                                  624\n",
       "board member                                          39\n",
       "teacher                                               37\n",
       "director                                              27\n",
       "chief executive officer                               24\n",
       "                                                    ... \n",
       "artwork production coordinator                         1\n",
       "vice president of finance                              1\n",
       "senior structural engineer                             1\n",
       "team leader - senior outreach counseling               1\n",
       "director of delivery services   senior consultant      1\n",
       "Name: CurrentRole, Length: 1618, dtype: int64"
      ]
     },
     "execution_count": 6,
     "metadata": {},
     "output_type": "execute_result"
    }
   ],
   "source": [
    "df['CurrentRole'].value_counts(dropna=False)"
   ]
  },
  {
   "cell_type": "markdown",
   "metadata": {},
   "source": [
    "### Insight #01: most people does not have the information of the CurrentRole"
   ]
  },
  {
   "cell_type": "code",
   "execution_count": 7,
   "metadata": {},
   "outputs": [
    {
     "data": {
      "text/plain": [
       "United States     1003\n",
       "United Kingdom     487\n",
       "Canada             446\n",
       "Australia          187\n",
       "Brazil              94\n",
       "                  ... \n",
       "Kuwait               1\n",
       "Qatar                1\n",
       "Bangladesh           1\n",
       "Oman                 1\n",
       "Estonia              1\n",
       "Name: Country, Length: 67, dtype: int64"
      ]
     },
     "execution_count": 7,
     "metadata": {},
     "output_type": "execute_result"
    }
   ],
   "source": [
    "df['Country'].value_counts(dropna=False)"
   ]
  },
  {
   "cell_type": "code",
   "execution_count": 8,
   "metadata": {},
   "outputs": [
    {
     "data": {
      "image/png": "[encoded data removed]",
      "text/plain": [
       "<Figure size 432x288 with 1 Axes>"
      ]
     },
     "metadata": {
      "needs_background": "light"
     },
     "output_type": "display_data"
    }
   ],
   "source": [
    "df['Industry'].value_counts(dropna=False).head(10).plot(kind='barh');"
   ]
  },
  {
   "cell_type": "code",
   "execution_count": 9,
   "metadata": {},
   "outputs": [
    {
     "data": {
      "image/png": "[encoded data removed]",
      "text/plain": [
       "<Figure size 432x288 with 1 Axes>"
      ]
     },
     "metadata": {
      "needs_background": "light"
     },
     "output_type": "display_data"
    }
   ],
   "source": [
    "df['NumberOfRecommendations'].hist();"
   ]
  },
  {
   "cell_type": "code",
   "execution_count": 10,
   "metadata": {},
   "outputs": [
    {
     "data": {
      "image/png": "[encoded data removed]",
      "text/plain": [
       "<Figure size 432x288 with 1 Axes>"
      ]
     },
     "metadata": {
      "needs_background": "light"
     },
     "output_type": "display_data"
    }
   ],
   "source": [
    "df['NumberOfConnections'].hist();"
   ]
  },
  {
   "cell_type": "code",
   "execution_count": 11,
   "metadata": {},
   "outputs": [
    {
     "data": {
      "image/png": "[encoded data removed]",
      "text/plain": [
       "<Figure size 432x288 with 1 Axes>"
      ]
     },
     "metadata": {
      "needs_background": "light"
     },
     "output_type": "display_data"
    }
   ],
   "source": [
    "df[['NumberOfRecommendations']].boxplot();"
   ]
  },
  {
   "cell_type": "code",
   "execution_count": 12,
   "metadata": {},
   "outputs": [
    {
     "data": {
      "image/png": "[encoded data removed]",
      "text/plain": [
       "<Figure size 432x288 with 1 Axes>"
      ]
     },
     "metadata": {
      "needs_background": "light"
     },
     "output_type": "display_data"
    }
   ],
   "source": [
    "df[['NumberOfConnections']].boxplot();"
   ]
  },
  {
   "cell_type": "code",
   "execution_count": 13,
   "metadata": {},
   "outputs": [
    {
     "data": {
      "image/png": "[encoded data removed]",
      "text/plain": [
       "<Figure size 432x288 with 1 Axes>"
      ]
     },
     "metadata": {
      "needs_background": "light"
     },
     "output_type": "display_data"
    }
   ],
   "source": [
    "temp_rec = df.query(\"NumberOfRecommendations > 0\")\n",
    "sns.boxplot(y=temp_rec['NumberOfRecommendations'], showfliers=True);"
   ]
  },
  {
   "cell_type": "code",
   "execution_count": 14,
   "metadata": {},
   "outputs": [
    {
     "data": {
      "image/png": "[encoded data removed]",
      "text/plain": [
       "<Figure size 432x288 with 1 Axes>"
      ]
     },
     "metadata": {
      "needs_background": "light"
     },
     "output_type": "display_data"
    }
   ],
   "source": [
    "temp_conn = df.query(\"NumberOfConnections > 0\")\n",
    "sns.boxplot(y=temp_conn['NumberOfConnections'], showfliers=True);"
   ]
  },
  {
   "cell_type": "code",
   "execution_count": 15,
   "metadata": {},
   "outputs": [
    {
     "data": {
      "image/png": "[encoded data removed]",
      "text/plain": [
       "<Figure size 432x288 with 1 Axes>"
      ]
     },
     "metadata": {
      "needs_background": "light"
     },
     "output_type": "display_data"
    }
   ],
   "source": [
    "sns.swarmplot(y=temp_rec['NumberOfRecommendations']);"
   ]
  },
  {
   "cell_type": "code",
   "execution_count": 16,
   "metadata": {},
   "outputs": [
    {
     "name": "stderr",
     "output_type": "stream",
     "text": [
      "/Users/alex.keila/opt/anaconda3/envs/obp_env/lib/python3.6/site-packages/seaborn/categorical.py:1296: UserWarning: 30.3% of the points cannot be placed; you may want to decrease the size of the markers or use stripplot.\n",
      "  warnings.warn(msg, UserWarning)\n"
     ]
    },
    {
     "data": {
      "image/png": "[encoded data removed]",
      "text/plain": [
       "<Figure size 432x288 with 1 Axes>"
      ]
     },
     "metadata": {
      "needs_background": "light"
     },
     "output_type": "display_data"
    }
   ],
   "source": [
    "sns.swarmplot(y=temp_conn['NumberOfConnections']);"
   ]
  },
  {
   "cell_type": "code",
   "execution_count": 17,
   "metadata": {},
   "outputs": [
    {
     "data": {
      "text/plain": [
       "98.95645915797049"
      ]
     },
     "execution_count": 17,
     "metadata": {},
     "output_type": "execute_result"
    }
   ],
   "source": [
    "df.query(\"NumberOfRecommendations == 0\").shape[0]/ df.shape[0] * 100"
   ]
  },
  {
   "cell_type": "code",
   "execution_count": 18,
   "metadata": {},
   "outputs": [
    {
     "data": {
      "text/plain": [
       "83.0154731917956"
      ]
     },
     "execution_count": 18,
     "metadata": {},
     "output_type": "execute_result"
    }
   ],
   "source": [
    "df.query(\"NumberOfConnections == 0\").shape[0]/ df.shape[0] * 100"
   ]
  },
  {
   "cell_type": "markdown",
   "metadata": {},
   "source": [
    "### Insight #02: It seems that most of the people on the dataset has ZERO recommendations"
   ]
  },
  {
   "cell_type": "markdown",
   "metadata": {},
   "source": [
    "### Insight #03: It seems that most of the people on the dataset has ZERO connections"
   ]
  },
  {
   "cell_type": "code",
   "execution_count": null,
   "metadata": {},
   "outputs": [],
   "source": []
  },
  {
   "cell_type": "markdown",
   "metadata": {},
   "source": [
    "### First idea: get only people from the LATAM Countries:"
   ]
  },
  {
   "cell_type": "code",
   "execution_count": 19,
   "metadata": {},
   "outputs": [],
   "source": [
    "lista_countries = list(df['Country'].unique())"
   ]
  },
  {
   "cell_type": "code",
   "execution_count": 20,
   "metadata": {},
   "outputs": [
    {
     "data": {
      "text/plain": [
       "['Dominica',\n",
       " 'United States',\n",
       " 'Canada',\n",
       " 'Spain',\n",
       " 'India',\n",
       " 'United Arab Emirates',\n",
       " 'United Kingdom',\n",
       " nan,\n",
       " 'Turkey',\n",
       " 'Germany']"
      ]
     },
     "execution_count": 20,
     "metadata": {},
     "output_type": "execute_result"
    }
   ],
   "source": [
    "lista_countries[0:10]"
   ]
  },
  {
   "cell_type": "code",
   "execution_count": 21,
   "metadata": {},
   "outputs": [
    {
     "data": {
      "text/plain": [
       "['Costa Rica',\n",
       " 'Mexico',\n",
       " 'Argentina',\n",
       " 'Chile',\n",
       " 'Brazil',\n",
       " 'Colombia',\n",
       " 'Uruguay',\n",
       " 'Venezuela',\n",
       " 'Peru',\n",
       " 'Ecuador',\n",
       " 'Panama']"
      ]
     },
     "execution_count": 21,
     "metadata": {},
     "output_type": "execute_result"
    }
   ],
   "source": [
    "lista_countries_latam = [\n",
    "'Costa Rica',\n",
    "'Mexico',\n",
    "'Argentina',\n",
    "'Chile',\n",
    "'Brazil',\n",
    "'Colombia',\n",
    "'Uruguay',\n",
    "'Venezuela',\n",
    "'Peru',\n",
    "'Ecuador',\n",
    "'Panama'\n",
    "]\n",
    "lista_countries_latam"
   ]
  },
  {
   "cell_type": "code",
   "execution_count": 22,
   "metadata": {},
   "outputs": [],
   "source": [
    "df_latam = df.query(\"Country in {}\".format(tuple(lista_countries_latam)))"
   ]
  },
  {
   "cell_type": "code",
   "execution_count": 23,
   "metadata": {},
   "outputs": [
    {
     "data": {
      "text/html": [
       "<div>\n",
       "<style scoped>\n",
       "    .dataframe tbody tr th:only-of-type {\n",
       "        vertical-align: middle;\n",
       "    }\n",
       "\n",
       "    .dataframe tbody tr th {\n",
       "        vertical-align: top;\n",
       "    }\n",
       "\n",
       "    .dataframe thead th {\n",
       "        text-align: right;\n",
       "    }\n",
       "</style>\n",
       "<table border=\"1\" class=\"dataframe\">\n",
       "  <thead>\n",
       "    <tr style=\"text-align: right;\">\n",
       "      <th></th>\n",
       "      <th>PersonId</th>\n",
       "      <th>Name</th>\n",
       "      <th>LastName</th>\n",
       "      <th>CurrentRole</th>\n",
       "      <th>Country</th>\n",
       "      <th>Industry</th>\n",
       "      <th>NumberOfRecommendations</th>\n",
       "      <th>NumberOfConnections</th>\n",
       "    </tr>\n",
       "  </thead>\n",
       "  <tbody>\n",
       "    <tr>\n",
       "      <th>33</th>\n",
       "      <td>287661650</td>\n",
       "      <td>alvaro</td>\n",
       "      <td>lachner</td>\n",
       "      <td>master franchise owner and country general man...</td>\n",
       "      <td>Costa Rica</td>\n",
       "      <td>Food &amp; Beverages</td>\n",
       "      <td>0</td>\n",
       "      <td>0</td>\n",
       "    </tr>\n",
       "    <tr>\n",
       "      <th>43</th>\n",
       "      <td>110964914</td>\n",
       "      <td>ralph</td>\n",
       "      <td>gauer</td>\n",
       "      <td>vp</td>\n",
       "      <td>Mexico</td>\n",
       "      <td>Museums and Institutions</td>\n",
       "      <td>2</td>\n",
       "      <td>96</td>\n",
       "    </tr>\n",
       "    <tr>\n",
       "      <th>297</th>\n",
       "      <td>646115786</td>\n",
       "      <td>alejandra</td>\n",
       "      <td>ortiz</td>\n",
       "      <td>publicidad y marketing- programaci√≥n</td>\n",
       "      <td>Argentina</td>\n",
       "      <td>Internet</td>\n",
       "      <td>0</td>\n",
       "      <td>0</td>\n",
       "    </tr>\n",
       "    <tr>\n",
       "      <th>329</th>\n",
       "      <td>643030230</td>\n",
       "      <td>carlos</td>\n",
       "      <td>barrera</td>\n",
       "      <td>vice president for latin america</td>\n",
       "      <td>Chile</td>\n",
       "      <td>Manufacturing</td>\n",
       "      <td>0</td>\n",
       "      <td>0</td>\n",
       "    </tr>\n",
       "    <tr>\n",
       "      <th>468</th>\n",
       "      <td>639691474</td>\n",
       "      <td>diego</td>\n",
       "      <td>mendonca</td>\n",
       "      <td>desarrolador web (front-end) independiente</td>\n",
       "      <td>Argentina</td>\n",
       "      <td>Design</td>\n",
       "      <td>0</td>\n",
       "      <td>205</td>\n",
       "    </tr>\n",
       "  </tbody>\n",
       "</table>\n",
       "</div>"
      ],
      "text/plain": [
       "      PersonId       Name  LastName  \\\n",
       "33   287661650     alvaro   lachner   \n",
       "43   110964914      ralph     gauer   \n",
       "297  646115786  alejandra     ortiz   \n",
       "329  643030230     carlos   barrera   \n",
       "468  639691474      diego  mendonca   \n",
       "\n",
       "                                           CurrentRole     Country  \\\n",
       "33   master franchise owner and country general man...  Costa Rica   \n",
       "43                                                  vp      Mexico   \n",
       "297              publicidad y marketing- programaci√≥n   Argentina   \n",
       "329                   vice president for latin america       Chile   \n",
       "468         desarrolador web (front-end) independiente   Argentina   \n",
       "\n",
       "                     Industry  NumberOfRecommendations  NumberOfConnections  \n",
       "33           Food & Beverages                        0                    0  \n",
       "43   Museums and Institutions                        2                   96  \n",
       "297                  Internet                        0                    0  \n",
       "329             Manufacturing                        0                    0  \n",
       "468                    Design                        0                  205  "
      ]
     },
     "execution_count": 23,
     "metadata": {},
     "output_type": "execute_result"
    }
   ],
   "source": [
    "df_latam.head()"
   ]
  },
  {
   "cell_type": "markdown",
   "metadata": {},
   "source": [
    "## Some more Exploratory Analysis on LATAM dataset:"
   ]
  },
  {
   "cell_type": "code",
   "execution_count": 24,
   "metadata": {},
   "outputs": [
    {
     "data": {
      "image/png": "[encoded data removed]",
      "text/plain": [
       "<Figure size 432x288 with 1 Axes>"
      ]
     },
     "metadata": {
      "needs_background": "light"
     },
     "output_type": "display_data"
    }
   ],
   "source": [
    "df_latam['Country'].value_counts(dropna=False).plot(kind='bar');"
   ]
  },
  {
   "cell_type": "code",
   "execution_count": 25,
   "metadata": {},
   "outputs": [
    {
     "data": {
      "text/plain": [
       "Construction                    7\n",
       "Health, Wellness and Fitness    6\n",
       "Human Resources                 6\n",
       "Facilities Services             6\n",
       "Marketing and Advertising       6\n",
       "                               ..\n",
       "Program Development             1\n",
       "Textiles                        1\n",
       "Building Materials              1\n",
       "Industrial Automation           1\n",
       "Medical Practice                1\n",
       "Name: Industry, Length: 86, dtype: int64"
      ]
     },
     "execution_count": 25,
     "metadata": {},
     "output_type": "execute_result"
    }
   ],
   "source": [
    "df_latam['Industry'].value_counts(dropna=False)"
   ]
  },
  {
   "cell_type": "code",
   "execution_count": 26,
   "metadata": {},
   "outputs": [
    {
     "data": {
      "image/png": "[encoded data removed]",
      "text/plain": [
       "<Figure size 432x288 with 1 Axes>"
      ]
     },
     "metadata": {
      "needs_background": "light"
     },
     "output_type": "display_data"
    }
   ],
   "source": [
    "df_latam['Industry'].value_counts(dropna=False).head(10).plot(kind='bar');"
   ]
  },
  {
   "cell_type": "code",
   "execution_count": 27,
   "metadata": {},
   "outputs": [
    {
     "data": {
      "text/plain": [
       "NaN                                                   161\n",
       "vp                                                      1\n",
       "supervisor regional no and ne                           1\n",
       "desarrolador web (front-end) independiente              1\n",
       "sap fico consultant                                     1\n",
       "customer service representative i                       1\n",
       "project manager                                         1\n",
       "latam treasury services technology                      1\n",
       "chief executive officer                                 1\n",
       "master franchise owner and country general manager      1\n",
       "regional sales manager                                  1\n",
       "vice president for latin america                        1\n",
       "intern                                                  1\n",
       "vice president latin america                            1\n",
       "porftfolio manager                                      1\n",
       "distribui√ß√£o                                          1\n",
       "publicidad y marketing- programaci√≥n                   1\n",
       "software validation engineer                            1\n",
       "planning supervisor                                     1\n",
       "Name: CurrentRole, dtype: int64"
      ]
     },
     "execution_count": 27,
     "metadata": {},
     "output_type": "execute_result"
    }
   ],
   "source": [
    "df_latam['CurrentRole'].value_counts(dropna=False)"
   ]
  },
  {
   "cell_type": "markdown",
   "metadata": {},
   "source": [
    "### Second idea: create a new column Score that is the multiplication of NumberOfConnections and NumberOfRecommendations"
   ]
  },
  {
   "cell_type": "code",
   "execution_count": 28,
   "metadata": {},
   "outputs": [
    {
     "name": "stderr",
     "output_type": "stream",
     "text": [
      "/Users/alex.keila/opt/anaconda3/envs/obp_env/lib/python3.6/site-packages/ipykernel_launcher.py:2: SettingWithCopyWarning: \n",
      "A value is trying to be set on a copy of a slice from a DataFrame.\n",
      "Try using .loc[row_indexer,col_indexer] = value instead\n",
      "\n",
      "See the caveats in the documentation: https://pandas.pydata.org/pandas-docs/stable/user_guide/indexing.html#returning-a-view-versus-a-copy\n",
      "  \n"
     ]
    }
   ],
   "source": [
    "# Adding 1 on each number to avoid multiplication by ZERO:\n",
    "df_latam['Score'] = (df_latam['NumberOfConnections']+1) * (df_latam['NumberOfRecommendations']+1)"
   ]
  },
  {
   "cell_type": "code",
   "execution_count": 29,
   "metadata": {},
   "outputs": [
    {
     "data": {
      "image/png": "[encoded data removed]",
      "text/plain": [
       "<Figure size 432x288 with 1 Axes>"
      ]
     },
     "metadata": {
      "needs_background": "light"
     },
     "output_type": "display_data"
    }
   ],
   "source": [
    "df_latam['Score'].hist();"
   ]
  },
  {
   "cell_type": "markdown",
   "metadata": {},
   "source": [
    "## Listing the TOP 100 people from LATAM Countries with the higher Score:"
   ]
  },
  {
   "cell_type": "code",
   "execution_count": 30,
   "metadata": {},
   "outputs": [
    {
     "data": {
      "text/html": [
       "<div>\n",
       "<style scoped>\n",
       "    .dataframe tbody tr th:only-of-type {\n",
       "        vertical-align: middle;\n",
       "    }\n",
       "\n",
       "    .dataframe tbody tr th {\n",
       "        vertical-align: top;\n",
       "    }\n",
       "\n",
       "    .dataframe thead th {\n",
       "        text-align: right;\n",
       "    }\n",
       "</style>\n",
       "<table border=\"1\" class=\"dataframe\">\n",
       "  <thead>\n",
       "    <tr style=\"text-align: right;\">\n",
       "      <th></th>\n",
       "      <th>PersonId</th>\n",
       "      <th>Name</th>\n",
       "      <th>LastName</th>\n",
       "      <th>CurrentRole</th>\n",
       "      <th>Country</th>\n",
       "      <th>Industry</th>\n",
       "      <th>NumberOfRecommendations</th>\n",
       "      <th>NumberOfConnections</th>\n",
       "      <th>Score</th>\n",
       "    </tr>\n",
       "  </thead>\n",
       "  <tbody>\n",
       "    <tr>\n",
       "      <th>900</th>\n",
       "      <td>644143040</td>\n",
       "      <td>luiz roberto</td>\n",
       "      <td>pires</td>\n",
       "      <td>NaN</td>\n",
       "      <td>Brazil</td>\n",
       "      <td>Automotive</td>\n",
       "      <td>13</td>\n",
       "      <td>500</td>\n",
       "      <td>7014</td>\n",
       "    </tr>\n",
       "    <tr>\n",
       "      <th>2147</th>\n",
       "      <td>644543448</td>\n",
       "      <td>mariana</td>\n",
       "      <td>gon√ßalves</td>\n",
       "      <td>NaN</td>\n",
       "      <td>Brazil</td>\n",
       "      <td>Higher Education</td>\n",
       "      <td>6</td>\n",
       "      <td>500</td>\n",
       "      <td>3507</td>\n",
       "    </tr>\n",
       "    <tr>\n",
       "      <th>2628</th>\n",
       "      <td>644064788</td>\n",
       "      <td>marco</td>\n",
       "      <td>bazalar reyes</td>\n",
       "      <td>NaN</td>\n",
       "      <td>Peru</td>\n",
       "      <td>Broadcast Media</td>\n",
       "      <td>4</td>\n",
       "      <td>406</td>\n",
       "      <td>2035</td>\n",
       "    </tr>\n",
       "    <tr>\n",
       "      <th>1715</th>\n",
       "      <td>644904290</td>\n",
       "      <td>marcela</td>\n",
       "      <td>achig</td>\n",
       "      <td>NaN</td>\n",
       "      <td>Costa Rica</td>\n",
       "      <td>Program Development</td>\n",
       "      <td>8</td>\n",
       "      <td>168</td>\n",
       "      <td>1521</td>\n",
       "    </tr>\n",
       "    <tr>\n",
       "      <th>2453</th>\n",
       "      <td>644317375</td>\n",
       "      <td>agustin humberto</td>\n",
       "      <td>lares ponce</td>\n",
       "      <td>NaN</td>\n",
       "      <td>Mexico</td>\n",
       "      <td>Automotive</td>\n",
       "      <td>2</td>\n",
       "      <td>500</td>\n",
       "      <td>1503</td>\n",
       "    </tr>\n",
       "    <tr>\n",
       "      <th>...</th>\n",
       "      <td>...</td>\n",
       "      <td>...</td>\n",
       "      <td>...</td>\n",
       "      <td>...</td>\n",
       "      <td>...</td>\n",
       "      <td>...</td>\n",
       "      <td>...</td>\n",
       "      <td>...</td>\n",
       "      <td>...</td>\n",
       "    </tr>\n",
       "    <tr>\n",
       "      <th>955</th>\n",
       "      <td>644564360</td>\n",
       "      <td>reparaci√≥n de pc</td>\n",
       "      <td>x</td>\n",
       "      <td>NaN</td>\n",
       "      <td>Uruguay</td>\n",
       "      <td>Information Technology and Services</td>\n",
       "      <td>0</td>\n",
       "      <td>10</td>\n",
       "      <td>11</td>\n",
       "    </tr>\n",
       "    <tr>\n",
       "      <th>2623</th>\n",
       "      <td>644477644</td>\n",
       "      <td>mauricio</td>\n",
       "      <td>rogel correia</td>\n",
       "      <td>NaN</td>\n",
       "      <td>Brazil</td>\n",
       "      <td>Retail</td>\n",
       "      <td>0</td>\n",
       "      <td>10</td>\n",
       "      <td>11</td>\n",
       "    </tr>\n",
       "    <tr>\n",
       "      <th>1365</th>\n",
       "      <td>644899585</td>\n",
       "      <td>ramon mauricio</td>\n",
       "      <td>labrin fuentes</td>\n",
       "      <td>NaN</td>\n",
       "      <td>Chile</td>\n",
       "      <td>Broadcast Media</td>\n",
       "      <td>0</td>\n",
       "      <td>8</td>\n",
       "      <td>9</td>\n",
       "    </tr>\n",
       "    <tr>\n",
       "      <th>2550</th>\n",
       "      <td>644645327</td>\n",
       "      <td>alfredo messias</td>\n",
       "      <td>vieira martins</td>\n",
       "      <td>NaN</td>\n",
       "      <td>Brazil</td>\n",
       "      <td>Business Supplies and Equipment</td>\n",
       "      <td>0</td>\n",
       "      <td>8</td>\n",
       "      <td>9</td>\n",
       "    </tr>\n",
       "    <tr>\n",
       "      <th>2637</th>\n",
       "      <td>644119558</td>\n",
       "      <td>maria cristina</td>\n",
       "      <td>dos santos barcellos</td>\n",
       "      <td>NaN</td>\n",
       "      <td>Brazil</td>\n",
       "      <td>Construction</td>\n",
       "      <td>0</td>\n",
       "      <td>8</td>\n",
       "      <td>9</td>\n",
       "    </tr>\n",
       "  </tbody>\n",
       "</table>\n",
       "<p>100 rows × 9 columns</p>\n",
       "</div>"
      ],
      "text/plain": [
       "       PersonId               Name              LastName CurrentRole  \\\n",
       "900   644143040       luiz roberto                 pires         NaN   \n",
       "2147  644543448            mariana            gon√ßalves         NaN   \n",
       "2628  644064788              marco         bazalar reyes         NaN   \n",
       "1715  644904290            marcela                 achig         NaN   \n",
       "2453  644317375   agustin humberto           lares ponce         NaN   \n",
       "...         ...                ...                   ...         ...   \n",
       "955   644564360  reparaci√≥n de pc                     x         NaN   \n",
       "2623  644477644           mauricio         rogel correia         NaN   \n",
       "1365  644899585     ramon mauricio        labrin fuentes         NaN   \n",
       "2550  644645327    alfredo messias        vieira martins         NaN   \n",
       "2637  644119558     maria cristina  dos santos barcellos         NaN   \n",
       "\n",
       "         Country                             Industry  \\\n",
       "900       Brazil                           Automotive   \n",
       "2147      Brazil                     Higher Education   \n",
       "2628        Peru                      Broadcast Media   \n",
       "1715  Costa Rica                  Program Development   \n",
       "2453      Mexico                           Automotive   \n",
       "...          ...                                  ...   \n",
       "955      Uruguay  Information Technology and Services   \n",
       "2623      Brazil                               Retail   \n",
       "1365       Chile                      Broadcast Media   \n",
       "2550      Brazil      Business Supplies and Equipment   \n",
       "2637      Brazil                         Construction   \n",
       "\n",
       "      NumberOfRecommendations  NumberOfConnections  Score  \n",
       "900                        13                  500   7014  \n",
       "2147                        6                  500   3507  \n",
       "2628                        4                  406   2035  \n",
       "1715                        8                  168   1521  \n",
       "2453                        2                  500   1503  \n",
       "...                       ...                  ...    ...  \n",
       "955                         0                   10     11  \n",
       "2623                        0                   10     11  \n",
       "1365                        0                    8      9  \n",
       "2550                        0                    8      9  \n",
       "2637                        0                    8      9  \n",
       "\n",
       "[100 rows x 9 columns]"
      ]
     },
     "execution_count": 30,
     "metadata": {},
     "output_type": "execute_result"
    }
   ],
   "source": [
    "df_top_100 = df_latam.sort_values(by=['Score', 'NumberOfConnections', 'NumberOfRecommendations'], ascending=False).head(100)\n",
    "df_top_100"
   ]
  },
  {
   "cell_type": "markdown",
   "metadata": {},
   "source": [
    "## Saving the final result on people.out:"
   ]
  },
  {
   "cell_type": "code",
   "execution_count": 31,
   "metadata": {},
   "outputs": [],
   "source": [
    "df_top_100[['PersonId']].to_csv('people.out', index=False)"
   ]
  },
  {
   "cell_type": "code",
   "execution_count": 32,
   "metadata": {},
   "outputs": [
    {
     "data": {
      "text/html": [
       "<div>\n",
       "<style scoped>\n",
       "    .dataframe tbody tr th:only-of-type {\n",
       "        vertical-align: middle;\n",
       "    }\n",
       "\n",
       "    .dataframe tbody tr th {\n",
       "        vertical-align: top;\n",
       "    }\n",
       "\n",
       "    .dataframe thead th {\n",
       "        text-align: right;\n",
       "    }\n",
       "</style>\n",
       "<table border=\"1\" class=\"dataframe\">\n",
       "  <thead>\n",
       "    <tr style=\"text-align: right;\">\n",
       "      <th></th>\n",
       "      <th>PersonId</th>\n",
       "    </tr>\n",
       "  </thead>\n",
       "  <tbody>\n",
       "    <tr>\n",
       "      <th>0</th>\n",
       "      <td>644143040</td>\n",
       "    </tr>\n",
       "    <tr>\n",
       "      <th>1</th>\n",
       "      <td>644543448</td>\n",
       "    </tr>\n",
       "    <tr>\n",
       "      <th>2</th>\n",
       "      <td>644064788</td>\n",
       "    </tr>\n",
       "    <tr>\n",
       "      <th>3</th>\n",
       "      <td>644904290</td>\n",
       "    </tr>\n",
       "    <tr>\n",
       "      <th>4</th>\n",
       "      <td>644317375</td>\n",
       "    </tr>\n",
       "    <tr>\n",
       "      <th>...</th>\n",
       "      <td>...</td>\n",
       "    </tr>\n",
       "    <tr>\n",
       "      <th>95</th>\n",
       "      <td>644564360</td>\n",
       "    </tr>\n",
       "    <tr>\n",
       "      <th>96</th>\n",
       "      <td>644477644</td>\n",
       "    </tr>\n",
       "    <tr>\n",
       "      <th>97</th>\n",
       "      <td>644899585</td>\n",
       "    </tr>\n",
       "    <tr>\n",
       "      <th>98</th>\n",
       "      <td>644645327</td>\n",
       "    </tr>\n",
       "    <tr>\n",
       "      <th>99</th>\n",
       "      <td>644119558</td>\n",
       "    </tr>\n",
       "  </tbody>\n",
       "</table>\n",
       "<p>100 rows × 1 columns</p>\n",
       "</div>"
      ],
      "text/plain": [
       "     PersonId\n",
       "0   644143040\n",
       "1   644543448\n",
       "2   644064788\n",
       "3   644904290\n",
       "4   644317375\n",
       "..        ...\n",
       "95  644564360\n",
       "96  644477644\n",
       "97  644899585\n",
       "98  644645327\n",
       "99  644119558\n",
       "\n",
       "[100 rows x 1 columns]"
      ]
     },
     "execution_count": 32,
     "metadata": {},
     "output_type": "execute_result"
    }
   ],
   "source": [
    "# checking with the file was saved correctly\n",
    "pd.read_csv('people.out')"
   ]
  },
  {
   "cell_type": "code",
   "execution_count": null,
   "metadata": {},
   "outputs": [],
   "source": []
  }
 ],
 "metadata": {
  "kernelspec": {
   "display_name": "Python 3",
   "language": "python",
   "name": "python3"
  },
  "language_info": {
   "codemirror_mode": {
    "name": "ipython",
    "version": 3
   },
   "file_extension": ".py",
   "mimetype": "text/x-python",
   "name": "python",
   "nbconvert_exporter": "python",
   "pygments_lexer": "ipython3",
   "version": "3.6.10"
  }
 },
 "nbformat": 4,
 "nbformat_minor": 4
}
